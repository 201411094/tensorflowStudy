{
 "metadata": {
  "language_info": {
   "codemirror_mode": {
    "name": "ipython",
    "version": 3
   },
   "file_extension": ".py",
   "mimetype": "text/x-python",
   "name": "python",
   "nbconvert_exporter": "python",
   "pygments_lexer": "ipython3",
   "version": "3.7.7-final"
  },
  "orig_nbformat": 2,
  "kernelspec": {
   "name": "python_defaultSpec_1597714445936",
   "display_name": "Python 3.7.7 64-bit ('shyun': conda)"
  }
 },
 "nbformat": 4,
 "nbformat_minor": 2,
 "cells": [
  {
   "cell_type": "code",
   "execution_count": 1,
   "metadata": {},
   "outputs": [],
   "source": [
    "import csv\n",
    "import re\n",
    "import tensorflow as tf\n",
    "%matplotlib inline\n",
    "import matplotlib.pyplot as plt\n",
    "from tensorflow.keras.preprocessing.text import Tokenizer\n",
    "from tensorflow.keras.preprocessing.sequence import pad_sequences\n",
    "from tensorflow.keras.utils import to_categorical\n",
    "from sklearn.model_selection import train_test_split\n",
    "import numpy as np"
   ]
  },
  {
   "cell_type": "code",
   "execution_count": 2,
   "metadata": {},
   "outputs": [],
   "source": [
    "def readCSV(csv_path, skip_firstRow=False, separator=',', encoding=\"utf-8-sig\"):\n",
    "    data = []\n",
    "    with open(csv_path, 'rt', encoding=encoding) as csvfile:\n",
    "        csvreader = csv.reader(csvfile, delimiter=separator)\n",
    "        for row in csvreader:\n",
    "            if not skip_firstRow:\n",
    "                data.append(row)\n",
    "            skip_firstRow = False\n",
    "    return data"
   ]
  },
  {
   "cell_type": "code",
   "execution_count": 3,
   "metadata": {},
   "outputs": [],
   "source": [
    "list_one = readCSV('lungcheck_200813_smoke.csv',skip_firstRow=True)"
   ]
  },
  {
   "cell_type": "code",
   "execution_count": 4,
   "metadata": {},
   "outputs": [
    {
     "output_type": "execute_result",
     "data": {
      "text/plain": "[['27376764', '20170208', '68', '1갑/일', '1', '30년', '30', '38', '38', '1'],\n ['27377046', '20170307', '75', '반갑', '0.5', '50년', '50', '25', '25', '1'],\n ['27392425', '20170226', '67', '10개피', '0.5', '25년', '25', '42', '42', '1'],\n ['27392425', '20180318', '68', '10개피 ', '0.5', '25년', '25', '43', '43', '1'],\n ['27396612',\n  '20170301',\n  '73',\n  '10개피/일 ',\n  '0.5',\n  '60년간 ',\n  '60',\n  '13',\n  '13',\n  '1'],\n ['27396612',\n  '20170220',\n  '73',\n  '10개피/일',\n  '0.5',\n  '약 60년간',\n  '60',\n  '13',\n  '13',\n  '1'],\n ['27390289', '20170310', '74', '30개피/일', '1.5', '50년', '50', '24', '24', '1'],\n ['27393101', '20180703', '44', '1갑', '1', '20년', '20', '24', '24', '1'],\n ['27414844', '20170223', '74', '10개피', '0.5', '40년', '40', '34', '34', '1'],\n ['27414844', '20170321', '74', '1갑', '1', '60년', '60', '14', '14', '1']]"
     },
     "metadata": {},
     "execution_count": 4
    }
   ],
   "source": [
    "list_one[:10]"
   ]
  },
  {
   "cell_type": "code",
   "execution_count": 5,
   "metadata": {},
   "outputs": [
    {
     "output_type": "execute_result",
     "data": {
      "text/plain": "68"
     },
     "metadata": {},
     "execution_count": 5
    }
   ],
   "source": [
    "x=[]\n",
    "xmax=0\n",
    "for i in list_one:\n",
    "    x.append(i[3])\n",
    "    xmax=max(xmax,len(i[3]))\n",
    "xmax"
   ]
  },
  {
   "cell_type": "code",
   "execution_count": 6,
   "metadata": {
    "tags": []
   },
   "outputs": [
    {
     "output_type": "execute_result",
     "data": {
      "text/plain": "60.0"
     },
     "metadata": {},
     "execution_count": 6
    }
   ],
   "source": [
    "y=[]\n",
    "ymax=0\n",
    "for i in list_one:\n",
    "    try:\n",
    "        y.append(float(i[4]))\n",
    "        ymax=max(ymax,float(i[4]))\n",
    "    except:\n",
    "        y.append(0)\n",
    "ymax"
   ]
  },
  {
   "cell_type": "code",
   "execution_count": 7,
   "metadata": {},
   "outputs": [],
   "source": [
    "src_tokenizer = Tokenizer()\n",
    "src_tokenizer.fit_on_texts(x)"
   ]
  },
  {
   "cell_type": "code",
   "execution_count": 8,
   "metadata": {},
   "outputs": [
    {
     "output_type": "execute_result",
     "data": {
      "text/plain": "335"
     },
     "metadata": {},
     "execution_count": 8
    }
   ],
   "source": [
    "len(src_tokenizer.word_index) + 1"
   ]
  },
  {
   "cell_type": "code",
   "execution_count": 30,
   "metadata": {},
   "outputs": [],
   "source": [
    "x_train_real, x_test_real, y_train, y_test = train_test_split(x, y, test_size=0.3, shuffle=False, random_state=1004)"
   ]
  },
  {
   "cell_type": "code",
   "execution_count": 32,
   "metadata": {},
   "outputs": [
    {
     "output_type": "execute_result",
     "data": {
      "text/plain": "6006"
     },
     "metadata": {},
     "execution_count": 32
    }
   ],
   "source": [
    "len(y_train)"
   ]
  },
  {
   "cell_type": "code",
   "execution_count": 33,
   "metadata": {},
   "outputs": [],
   "source": [
    "x_train=src_tokenizer.texts_to_sequences(x_train_real)\n",
    "x_test=src_tokenizer.texts_to_sequences(x_test_real)"
   ]
  },
  {
   "cell_type": "code",
   "execution_count": 34,
   "metadata": {},
   "outputs": [
    {
     "output_type": "execute_result",
     "data": {
      "text/plain": "['1', '1갑', '15개피', '15개피', '2갑/일', '1', '1갑반/1일', '한갑 반/1일', '01월 01일', '1갑']"
     },
     "metadata": {},
     "execution_count": 34
    }
   ],
   "source": [
    "x_test_real[:10]"
   ]
  },
  {
   "cell_type": "code",
   "execution_count": 35,
   "metadata": {},
   "outputs": [
    {
     "output_type": "execute_result",
     "data": {
      "text/plain": "[[3], [2], [11], [11], [7, 1], [3], [26, 6], [19, 35, 6], [8, 10], [2]]"
     },
     "metadata": {},
     "execution_count": 35
    }
   ],
   "source": [
    "x_test[:10]"
   ]
  },
  {
   "cell_type": "code",
   "execution_count": 36,
   "metadata": {},
   "outputs": [
    {
     "output_type": "execute_result",
     "data": {
      "text/plain": "68"
     },
     "metadata": {},
     "execution_count": 36
    }
   ],
   "source": [
    "for i in x_train:\n",
    "    xmax_2=max(xmax,len(i))\n",
    "xmax_2"
   ]
  },
  {
   "cell_type": "code",
   "execution_count": 37,
   "metadata": {},
   "outputs": [],
   "source": [
    "index_to_word = src_tokenizer.index_word"
   ]
  },
  {
   "cell_type": "code",
   "execution_count": 38,
   "metadata": {},
   "outputs": [],
   "source": [
    "x_train = pad_sequences(x_train, padding='post', maxlen=xmax_2)\n",
    "x_test = pad_sequences(x_test, padding='post', maxlen=xmax_2)"
   ]
  },
  {
   "cell_type": "code",
   "execution_count": 39,
   "metadata": {},
   "outputs": [],
   "source": [
    "y_train = to_categorical(y_train,num_classes=ymax+1)\n",
    "y_test = to_categorical(y_test,num_classes=ymax+1)"
   ]
  },
  {
   "cell_type": "code",
   "execution_count": 40,
   "metadata": {},
   "outputs": [
    {
     "output_type": "execute_result",
     "data": {
      "text/plain": "(6006, 68)"
     },
     "metadata": {},
     "execution_count": 40
    }
   ],
   "source": [
    "x_train.shape"
   ]
  },
  {
   "cell_type": "code",
   "execution_count": 41,
   "metadata": {},
   "outputs": [
    {
     "output_type": "execute_result",
     "data": {
      "text/plain": "array([2, 1, 0, 0, 0, 0, 0, 0, 0, 0, 0, 0, 0, 0, 0, 0, 0, 0, 0, 0, 0, 0,\n       0, 0, 0, 0, 0, 0, 0, 0, 0, 0, 0, 0, 0, 0, 0, 0, 0, 0, 0, 0, 0, 0,\n       0, 0, 0, 0, 0, 0, 0, 0, 0, 0, 0, 0, 0, 0, 0, 0, 0, 0, 0, 0, 0, 0,\n       0, 0])"
     },
     "metadata": {},
     "execution_count": 41
    }
   ],
   "source": [
    "x_train[0]"
   ]
  },
  {
   "cell_type": "code",
   "execution_count": 42,
   "metadata": {},
   "outputs": [
    {
     "output_type": "execute_result",
     "data": {
      "text/plain": "(6006, 61)"
     },
     "metadata": {},
     "execution_count": 42
    }
   ],
   "source": [
    "y_train.shape"
   ]
  },
  {
   "cell_type": "code",
   "execution_count": 43,
   "metadata": {},
   "outputs": [
    {
     "output_type": "execute_result",
     "data": {
      "text/plain": "array([0., 1., 0., 0., 0., 0., 0., 0., 0., 0., 0., 0., 0., 0., 0., 0., 0.,\n       0., 0., 0., 0., 0., 0., 0., 0., 0., 0., 0., 0., 0., 0., 0., 0., 0.,\n       0., 0., 0., 0., 0., 0., 0., 0., 0., 0., 0., 0., 0., 0., 0., 0., 0.,\n       0., 0., 0., 0., 0., 0., 0., 0., 0., 0.], dtype=float32)"
     },
     "metadata": {},
     "execution_count": 43
    }
   ],
   "source": [
    "y_train[0]"
   ]
  },
  {
   "cell_type": "code",
   "execution_count": 44,
   "metadata": {},
   "outputs": [
    {
     "output_type": "execute_result",
     "data": {
      "text/plain": "<tf.Tensor 'modelInput_1:0' shape=(None, 68) dtype=int32>"
     },
     "metadata": {},
     "execution_count": 44
    }
   ],
   "source": [
    "words_input = tf.keras.layers.Input(shape=(xmax_2, ),dtype='int32', name='modelInput')\n",
    "words_input"
   ]
  },
  {
   "cell_type": "code",
   "execution_count": 45,
   "metadata": {},
   "outputs": [
    {
     "output_type": "execute_result",
     "data": {
      "text/plain": "<tf.Tensor 'embedding_1/Identity:0' shape=(None, 68, 128) dtype=float32>"
     },
     "metadata": {},
     "execution_count": 45
    }
   ],
   "source": [
    "words = tf.keras.layers.Embedding(input_dim=335, output_dim=128, mask_zero=True)(words_input)\n",
    "words"
   ]
  },
  {
   "cell_type": "code",
   "execution_count": 46,
   "metadata": {},
   "outputs": [],
   "source": [
    "ff = tf.keras.layers.Flatten()(words)"
   ]
  },
  {
   "cell_type": "code",
   "execution_count": 47,
   "metadata": {},
   "outputs": [],
   "source": [
    "denseLayer = tf.keras.layers.Dense(61, activation='softmax')(ff)"
   ]
  },
  {
   "cell_type": "code",
   "execution_count": 48,
   "metadata": {},
   "outputs": [],
   "source": [
    "modelFunc = tf.keras.Model(inputs=words_input, outputs=denseLayer)"
   ]
  },
  {
   "cell_type": "code",
   "execution_count": 49,
   "metadata": {
    "tags": []
   },
   "outputs": [
    {
     "output_type": "stream",
     "name": "stdout",
     "text": "Model: \"model_1\"\n_________________________________________________________________\nLayer (type)                 Output Shape              Param #   \n=================================================================\nmodelInput (InputLayer)      [(None, 68)]              0         \n_________________________________________________________________\nembedding_1 (Embedding)      (None, 68, 128)           42880     \n_________________________________________________________________\nflatten_1 (Flatten)          (None, 8704)              0         \n_________________________________________________________________\ndense_1 (Dense)              (None, 61)                531005    \n=================================================================\nTotal params: 573,885\nTrainable params: 573,885\nNon-trainable params: 0\n_________________________________________________________________\n"
    }
   ],
   "source": [
    "modelFunc.compile(loss='categorical_crossentropy', optimizer='adam', metrics=['accuracy'])\n",
    "modelFunc.summary()"
   ]
  },
  {
   "cell_type": "code",
   "execution_count": 50,
   "metadata": {},
   "outputs": [],
   "source": [
    "import os\n",
    "os.environ[\"TF_FORCE_GPU_ALLOW_GROWTH\"]=\"true\""
   ]
  },
  {
   "cell_type": "code",
   "execution_count": 51,
   "metadata": {
    "tags": []
   },
   "outputs": [
    {
     "output_type": "stream",
     "name": "stdout",
     "text": "Train on 6006 samples\nEpoch 1/20\n6006/6006 [==============================] - 1s 149us/sample - loss: 1.3270 - accuracy: 0.5576\nEpoch 2/20\n6006/6006 [==============================] - 0s 48us/sample - loss: 0.6742 - accuracy: 0.8365\nEpoch 3/20\n6006/6006 [==============================] - 0s 50us/sample - loss: 0.3847 - accuracy: 0.9141\nEpoch 4/20\n6006/6006 [==============================] - 0s 50us/sample - loss: 0.2623 - accuracy: 0.9381\nEpoch 5/20\n6006/6006 [==============================] - 0s 49us/sample - loss: 0.1960 - accuracy: 0.9577\nEpoch 6/20\n6006/6006 [==============================] - 0s 49us/sample - loss: 0.1551 - accuracy: 0.9619\nEpoch 7/20\n6006/6006 [==============================] - 0s 50us/sample - loss: 0.1271 - accuracy: 0.9687\nEpoch 8/20\n6006/6006 [==============================] - 0s 50us/sample - loss: 0.1063 - accuracy: 0.9755\nEpoch 9/20\n6006/6006 [==============================] - 0s 50us/sample - loss: 0.0921 - accuracy: 0.9795\nEpoch 10/20\n6006/6006 [==============================] - 0s 49us/sample - loss: 0.0802 - accuracy: 0.9833\nEpoch 11/20\n6006/6006 [==============================] - 0s 50us/sample - loss: 0.0710 - accuracy: 0.9857\nEpoch 12/20\n6006/6006 [==============================] - 0s 50us/sample - loss: 0.0635 - accuracy: 0.9867\nEpoch 13/20\n6006/6006 [==============================] - 0s 51us/sample - loss: 0.0575 - accuracy: 0.9865\nEpoch 14/20\n6006/6006 [==============================] - 0s 50us/sample - loss: 0.0525 - accuracy: 0.9877\nEpoch 15/20\n6006/6006 [==============================] - 0s 50us/sample - loss: 0.0478 - accuracy: 0.9875\nEpoch 16/20\n6006/6006 [==============================] - 0s 49us/sample - loss: 0.0444 - accuracy: 0.9877\nEpoch 17/20\n6006/6006 [==============================] - 0s 51us/sample - loss: 0.0400 - accuracy: 0.9888\nEpoch 18/20\n6006/6006 [==============================] - 0s 50us/sample - loss: 0.0376 - accuracy: 0.9900\nEpoch 19/20\n6006/6006 [==============================] - 0s 50us/sample - loss: 0.0352 - accuracy: 0.9900\nEpoch 20/20\n6006/6006 [==============================] - 0s 50us/sample - loss: 0.0319 - accuracy: 0.9917\n"
    },
    {
     "output_type": "execute_result",
     "data": {
      "text/plain": "<tensorflow.python.keras.callbacks.History at 0x224e3e7ee48>"
     },
     "metadata": {},
     "execution_count": 51
    }
   ],
   "source": [
    "modelFunc.fit(x_train, y_train, batch_size=128, epochs=20)"
   ]
  },
  {
   "cell_type": "code",
   "execution_count": 52,
   "metadata": {},
   "outputs": [
    {
     "output_type": "execute_result",
     "data": {
      "text/plain": "[0.14063263780465632, 0.97047395]"
     },
     "metadata": {},
     "execution_count": 52
    }
   ],
   "source": [
    "modelFunc.evaluate(x_test, y_test,verbose=0)"
   ]
  },
  {
   "cell_type": "code",
   "execution_count": 53,
   "metadata": {},
   "outputs": [
    {
     "output_type": "execute_result",
     "data": {
      "text/plain": "array([3, 0, 0, 0, 0, 0, 0, 0, 0, 0, 0, 0, 0, 0, 0, 0, 0, 0, 0, 0, 0, 0,\n       0, 0, 0, 0, 0, 0, 0, 0, 0, 0, 0, 0, 0, 0, 0, 0, 0, 0, 0, 0, 0, 0,\n       0, 0, 0, 0, 0, 0, 0, 0, 0, 0, 0, 0, 0, 0, 0, 0, 0, 0, 0, 0, 0, 0,\n       0, 0])"
     },
     "metadata": {},
     "execution_count": 53
    }
   ],
   "source": [
    "x_test[0]"
   ]
  },
  {
   "cell_type": "code",
   "execution_count": 66,
   "metadata": {},
   "outputs": [],
   "source": [
    "predictions=modelFunc.predict(x_test)"
   ]
  },
  {
   "cell_type": "code",
   "execution_count": 71,
   "metadata": {
    "tags": []
   },
   "outputs": [
    {
     "output_type": "stream",
     "name": "stdout",
     "text": "실제값: 20 예측값: 20\n실제값: 20 예측값: 20\n실제값: 20 예측값: 20\n실제값: 5 예측값: 5\n실제값: 20 예측값: 20\n실제값: 4 예측값: 4\n실제값: 10 예측값: 10\n실제값: 1 예측값: 4\n3~4갑 ->1갑 감소\n실제값: 20 예측값: 20\n실제값: 2 예측값: 20\n20~40개\n실제값: 5 예측값: 5\n실제값: 0 예측값: 40\n   40 PYR ex-smoker (10yr quit) \n실제값: 10 예측값: 10\n실제값: 20 예측값: 20\n실제값: 30 예측값: 30\n실제값: 2 예측값: 40\n40 개피/1일\n실제값: 20 예측값: 20\n실제값: 20 예측값: 20\n실제값: 10 예측값: 10\n실제값: 40 예측값: 40\n실제값: 20 예측값: 20\n실제값: 0 예측값: 10\n10-15개비\n실제값: 10 예측값: 10\n실제값: 20 예측값: 20\n실제값: 20 예측값: 20\n실제값: 0 예측값: 20\n20/40\n실제값: 20 예측값: 20\n실제값: 20 예측값: 20\n실제값: 10 예측값: 10\n실제값: 10 예측값: 10\n실제값: 6 예측값: 5\n5-6/일\n실제값: 30 예측값: 30\n실제값: 20 예측값: 20\n실제값: 10 예측값: 10\n실제값: 4 예측값: 4\n"
    }
   ],
   "source": [
    "for i in range(len(x_test)):\n",
    "    if np.argmax(predictions[i]) == 0 or np.argmax(predictions[i]) == 1:\n",
    "        pass\n",
    "    elif np.argmax(predictions[i]) >3:\n",
    "        print('실제값: {} 예측값: {}'.format(np.argmax(y_test[i]), np.argmax(predictions[i])))\n",
    "        if np.argmax(y_test[i]) != np.argmax(predictions[i]):\n",
    "            print(x_test_real[i])\n",
    "    else:\n",
    "        pass\n",
    "        # print(i)"
   ]
  },
  {
   "cell_type": "code",
   "execution_count": null,
   "metadata": {},
   "outputs": [],
   "source": [
    "inx=2111"
   ]
  },
  {
   "cell_type": "code",
   "execution_count": null,
   "metadata": {
    "tags": []
   },
   "outputs": [],
   "source": [
    "\n",
    "print('예측값: {} 실제값: {}'.format(np.argmax(y_test[inx]), np.argmax(predictions[inx])))"
   ]
  },
  {
   "cell_type": "code",
   "execution_count": null,
   "metadata": {},
   "outputs": [],
   "source": []
  }
 ]
}