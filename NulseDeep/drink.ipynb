{
 "metadata": {
  "language_info": {
   "codemirror_mode": {
    "name": "ipython",
    "version": 3
   },
   "file_extension": ".py",
   "mimetype": "text/x-python",
   "name": "python",
   "nbconvert_exporter": "python",
   "pygments_lexer": "ipython3",
   "version": "3.7.7-final"
  },
  "orig_nbformat": 2,
  "kernelspec": {
   "name": "python_defaultSpec_1597734597192",
   "display_name": "Python 3.7.7 64-bit ('shyun': conda)"
  }
 },
 "nbformat": 4,
 "nbformat_minor": 2,
 "cells": [
  {
   "cell_type": "code",
   "execution_count": 1,
   "metadata": {},
   "outputs": [],
   "source": [
    "import csv\n",
    "import re\n",
    "import tensorflow as tf\n",
    "%matplotlib inline\n",
    "import matplotlib.pyplot as plt\n",
    "from tensorflow.keras.preprocessing.text import Tokenizer\n",
    "from tensorflow.keras.preprocessing.sequence import pad_sequences\n",
    "from tensorflow.keras.utils import to_categorical\n",
    "from sklearn.model_selection import train_test_split\n",
    "import numpy as np"
   ]
  },
  {
   "cell_type": "code",
   "execution_count": 2,
   "metadata": {},
   "outputs": [],
   "source": [
    "def readCSV(csv_path, skip_firstRow=False, separator=',', encoding=\"utf-8-sig\"):\n",
    "    data = []\n",
    "    with open(csv_path, 'rt', encoding=encoding) as csvfile:\n",
    "        csvreader = csv.reader(csvfile, delimiter=separator)\n",
    "        for row in csvreader:\n",
    "            if not skip_firstRow:\n",
    "                data.append(row)\n",
    "            skip_firstRow = False\n",
    "    return data"
   ]
  },
  {
   "cell_type": "code",
   "execution_count": 3,
   "metadata": {},
   "outputs": [],
   "source": [
    "list_one = readCSV('lungcheck_200813_drink.csv',skip_firstRow=True)"
   ]
  },
  {
   "cell_type": "code",
   "execution_count": 4,
   "metadata": {},
   "outputs": [
    {
     "output_type": "execute_result",
     "data": {
      "text/plain": "[['27357648',\n  '20170214',\n  '79',\n  '-',\n  '',\n  '맥주',\n  '1',\n  '79',\n  '',\n  '0.5',\n  '',\n  '1',\n  '',\n  '4'],\n ['27377046',\n  '20170307',\n  '75',\n  '10년간',\n  '10',\n  '소주',\n  '2',\n  '65',\n  '65',\n  '3-5잔',\n  '',\n  '2회/주',\n  '8',\n  '1'],\n ['27392425',\n  '20170226',\n  '67',\n  '40년',\n  '40',\n  '막걸리,맥주,소주',\n  '1,2,4',\n  '27',\n  '27',\n  '3-5잔',\n  '',\n  '2',\n  '',\n  '2'],\n ['27392425',\n  '20180318',\n  '68',\n  '40년',\n  '40',\n  '',\n  '',\n  '28',\n  '28',\n  '3-5잔',\n  '',\n  '주 2회 ',\n  '8',\n  '3'],\n ['27393101',\n  '20180703',\n  '44',\n  '20년',\n  '20',\n  '',\n  '',\n  '24',\n  '24',\n  '2병',\n  '2',\n  '2회',\n  '',\n  '3'],\n ['27396737',\n  '20170301',\n  '52',\n  '10년간 ',\n  '10',\n  '소주',\n  '2',\n  '42',\n  '42',\n  '3~5잔/일 ',\n  '',\n  '1회/주 ',\n  '4',\n  '1'],\n ['27404892',\n  '20170628',\n  '44',\n  '25년',\n  '25',\n  '맥주',\n  '1',\n  '19',\n  '19',\n  '6~10잔',\n  '',\n  '2/주',\n  '8',\n  '1'],\n ['27404892',\n  '20170711',\n  '44',\n  '25',\n  '25',\n  '맥주',\n  '1',\n  '19',\n  '19',\n  '06월 10일',\n  '',\n  '2',\n  '',\n  '2'],\n ['27425659',\n  '20170301',\n  '75',\n  '50년간 ',\n  '50',\n  '소주',\n  '2',\n  '25',\n  '25',\n  '6~10잔',\n  '',\n  '1주일/1회',\n  '4',\n  '1'],\n ['27425659',\n  '20170314',\n  '75',\n  '50년간',\n  '50',\n  '',\n  '',\n  '25',\n  '25',\n  '6~10잔',\n  '',\n  '1주일/1회',\n  '4',\n  '3']]"
     },
     "metadata": {},
     "execution_count": 4
    }
   ],
   "source": [
    "list_one[:10]"
   ]
  },
  {
   "cell_type": "code",
   "execution_count": 5,
   "metadata": {},
   "outputs": [
    {
     "output_type": "execute_result",
     "data": {
      "text/plain": "19"
     },
     "metadata": {},
     "execution_count": 5
    }
   ],
   "source": [
    "x=[]\n",
    "xmax=0\n",
    "for i in list_one:\n",
    "    x.append(i[11])\n",
    "    xmax=max(xmax,len(i[11]))\n",
    "xmax"
   ]
  },
  {
   "cell_type": "code",
   "execution_count": 6,
   "metadata": {
    "tags": []
   },
   "outputs": [],
   "source": [
    "y=[]\n",
    "ymax=0\n",
    "for i in list_one:\n",
    "    try:\n",
    "        y.append(float(i[12]))\n",
    "        ymax=max(ymax,float(i[12]))\n",
    "    except:\n",
    "        y.append(0)\n",
    "ymax=int(ymax)"
   ]
  },
  {
   "cell_type": "code",
   "execution_count": 7,
   "metadata": {},
   "outputs": [],
   "source": [
    "src_tokenizer = Tokenizer()\n",
    "src_tokenizer.fit_on_texts(x)"
   ]
  },
  {
   "cell_type": "code",
   "execution_count": 8,
   "metadata": {},
   "outputs": [],
   "source": [
    "input_dim= len(src_tokenizer.word_index) + 1"
   ]
  },
  {
   "cell_type": "code",
   "execution_count": 9,
   "metadata": {},
   "outputs": [],
   "source": [
    "x_train_real, x_test_real, y_train, y_test = train_test_split(x, y, test_size=0.3, shuffle=False, random_state=1004)"
   ]
  },
  {
   "cell_type": "code",
   "execution_count": 10,
   "metadata": {},
   "outputs": [
    {
     "output_type": "execute_result",
     "data": {
      "text/plain": "3594"
     },
     "metadata": {},
     "execution_count": 10
    }
   ],
   "source": [
    "len(y_train)"
   ]
  },
  {
   "cell_type": "code",
   "execution_count": 11,
   "metadata": {},
   "outputs": [],
   "source": [
    "x_train=src_tokenizer.texts_to_sequences(x_train_real)\n",
    "x_test=src_tokenizer.texts_to_sequences(x_test_real)"
   ]
  },
  {
   "cell_type": "code",
   "execution_count": 12,
   "metadata": {},
   "outputs": [
    {
     "output_type": "execute_result",
     "data": {
      "text/plain": "['1', '2회/주', '3회/주', '2회/주', '3회/일', '6회/wks', '6회/wks', '매일', '1', '1회/월']"
     },
     "metadata": {},
     "execution_count": 12
    }
   ],
   "source": [
    "x_test_real[:10]"
   ]
  },
  {
   "cell_type": "code",
   "execution_count": 13,
   "metadata": {},
   "outputs": [
    {
     "output_type": "execute_result",
     "data": {
      "text/plain": "[[3], [4, 1], [5, 1], [4, 1], [5, 23], [19, 50], [19, 50], [13], [3], [2, 21]]"
     },
     "metadata": {},
     "execution_count": 13
    }
   ],
   "source": [
    "x_test[:10]"
   ]
  },
  {
   "cell_type": "code",
   "execution_count": 14,
   "metadata": {},
   "outputs": [
    {
     "output_type": "execute_result",
     "data": {
      "text/plain": "19"
     },
     "metadata": {},
     "execution_count": 14
    }
   ],
   "source": [
    "for i in x_train:\n",
    "    xmax_2=max(xmax,len(i))\n",
    "xmax_2"
   ]
  },
  {
   "cell_type": "code",
   "execution_count": 15,
   "metadata": {},
   "outputs": [],
   "source": [
    "index_to_word = src_tokenizer.index_word"
   ]
  },
  {
   "cell_type": "code",
   "execution_count": 16,
   "metadata": {},
   "outputs": [],
   "source": [
    "x_train = pad_sequences(x_train, padding='post', maxlen=xmax_2)\n",
    "x_test = pad_sequences(x_test, padding='post', maxlen=xmax_2)"
   ]
  },
  {
   "cell_type": "code",
   "execution_count": 17,
   "metadata": {},
   "outputs": [],
   "source": [
    "y_train = to_categorical(y_train,num_classes=ymax+1)\n",
    "y_test = to_categorical(y_test,num_classes=ymax+1)"
   ]
  },
  {
   "cell_type": "code",
   "execution_count": 18,
   "metadata": {},
   "outputs": [
    {
     "output_type": "execute_result",
     "data": {
      "text/plain": "(3594, 19)"
     },
     "metadata": {},
     "execution_count": 18
    }
   ],
   "source": [
    "x_train.shape"
   ]
  },
  {
   "cell_type": "code",
   "execution_count": 19,
   "metadata": {},
   "outputs": [
    {
     "output_type": "execute_result",
     "data": {
      "text/plain": "array([3, 0, 0, 0, 0, 0, 0, 0, 0, 0, 0, 0, 0, 0, 0, 0, 0, 0, 0])"
     },
     "metadata": {},
     "execution_count": 19
    }
   ],
   "source": [
    "x_train[0]"
   ]
  },
  {
   "cell_type": "code",
   "execution_count": 20,
   "metadata": {},
   "outputs": [
    {
     "output_type": "execute_result",
     "data": {
      "text/plain": "(3594, 41)"
     },
     "metadata": {},
     "execution_count": 20
    }
   ],
   "source": [
    "y_train.shape"
   ]
  },
  {
   "cell_type": "code",
   "execution_count": 21,
   "metadata": {},
   "outputs": [
    {
     "output_type": "execute_result",
     "data": {
      "text/plain": "array([1., 0., 0., 0., 0., 0., 0., 0., 0., 0., 0., 0., 0., 0., 0., 0., 0.,\n       0., 0., 0., 0., 0., 0., 0., 0., 0., 0., 0., 0., 0., 0., 0., 0., 0.,\n       0., 0., 0., 0., 0., 0., 0.], dtype=float32)"
     },
     "metadata": {},
     "execution_count": 21
    }
   ],
   "source": [
    "y_train[0]"
   ]
  },
  {
   "cell_type": "code",
   "execution_count": 22,
   "metadata": {},
   "outputs": [
    {
     "output_type": "execute_result",
     "data": {
      "text/plain": "<tf.Tensor 'modelInput:0' shape=(None, 19) dtype=int32>"
     },
     "metadata": {},
     "execution_count": 22
    }
   ],
   "source": [
    "words_input = tf.keras.layers.Input(shape=(xmax_2, ),dtype='int32', name='modelInput')\n",
    "words_input"
   ]
  },
  {
   "cell_type": "code",
   "execution_count": 23,
   "metadata": {},
   "outputs": [
    {
     "output_type": "execute_result",
     "data": {
      "text/plain": "<tf.Tensor 'embedding/Identity:0' shape=(None, 19, 128) dtype=float32>"
     },
     "metadata": {},
     "execution_count": 23
    }
   ],
   "source": [
    "words = tf.keras.layers.Embedding(input_dim=input_dim, output_dim=128, mask_zero=True)(words_input)\n",
    "words"
   ]
  },
  {
   "cell_type": "code",
   "execution_count": 24,
   "metadata": {},
   "outputs": [],
   "source": [
    "ff = tf.keras.layers.Flatten()(words)"
   ]
  },
  {
   "cell_type": "code",
   "execution_count": 25,
   "metadata": {},
   "outputs": [],
   "source": [
    "denseLayer = tf.keras.layers.Dense(ymax+1, activation='softmax')(ff)"
   ]
  },
  {
   "cell_type": "code",
   "execution_count": 26,
   "metadata": {},
   "outputs": [],
   "source": [
    "modelFunc = tf.keras.Model(inputs=words_input, outputs=denseLayer)"
   ]
  },
  {
   "cell_type": "code",
   "execution_count": 27,
   "metadata": {
    "tags": []
   },
   "outputs": [
    {
     "output_type": "stream",
     "name": "stdout",
     "text": "Model: \"model\"\n_________________________________________________________________\nLayer (type)                 Output Shape              Param #   \n=================================================================\nmodelInput (InputLayer)      [(None, 19)]              0         \n_________________________________________________________________\nembedding (Embedding)        (None, 19, 128)           37376     \n_________________________________________________________________\nflatten (Flatten)            (None, 2432)              0         \n_________________________________________________________________\ndense (Dense)                (None, 41)                99753     \n=================================================================\nTotal params: 137,129\nTrainable params: 137,129\nNon-trainable params: 0\n_________________________________________________________________\n"
    }
   ],
   "source": [
    "modelFunc.compile(loss='categorical_crossentropy', optimizer='adam', metrics=['accuracy'])\n",
    "modelFunc.summary()"
   ]
  },
  {
   "cell_type": "code",
   "execution_count": 28,
   "metadata": {},
   "outputs": [],
   "source": [
    "import os\n",
    "os.environ[\"TF_FORCE_GPU_ALLOW_GROWTH\"]=\"true\""
   ]
  },
  {
   "cell_type": "code",
   "execution_count": 35,
   "metadata": {
    "tags": []
   },
   "outputs": [
    {
     "output_type": "stream",
     "name": "stdout",
     "text": "Train on 3594 samples\nEpoch 1/20\n3594/3594 [==============================] - 0s 47us/sample - loss: 0.0664 - accuracy: 0.9903\nEpoch 2/20\n3594/3594 [==============================] - 0s 42us/sample - loss: 0.0611 - accuracy: 0.9905\nEpoch 3/20\n3594/3594 [==============================] - 0s 42us/sample - loss: 0.0568 - accuracy: 0.9908\nEpoch 4/20\n3594/3594 [==============================] - 0s 42us/sample - loss: 0.0529 - accuracy: 0.9925\nEpoch 5/20\n3594/3594 [==============================] - 0s 42us/sample - loss: 0.0486 - accuracy: 0.9922\nEpoch 6/20\n3594/3594 [==============================] - 0s 41us/sample - loss: 0.0454 - accuracy: 0.9930\nEpoch 7/20\n3594/3594 [==============================] - 0s 41us/sample - loss: 0.0422 - accuracy: 0.9947\nEpoch 8/20\n3594/3594 [==============================] - 0s 41us/sample - loss: 0.0395 - accuracy: 0.9964\nEpoch 9/20\n3594/3594 [==============================] - 0s 45us/sample - loss: 0.0374 - accuracy: 0.9967\nEpoch 10/20\n3594/3594 [==============================] - 0s 41us/sample - loss: 0.0355 - accuracy: 0.9969\nEpoch 11/20\n3594/3594 [==============================] - 0s 42us/sample - loss: 0.0334 - accuracy: 0.9972\nEpoch 12/20\n3594/3594 [==============================] - 0s 42us/sample - loss: 0.0314 - accuracy: 0.9972\nEpoch 13/20\n3594/3594 [==============================] - 0s 40us/sample - loss: 0.0306 - accuracy: 0.9967\nEpoch 14/20\n3594/3594 [==============================] - 0s 41us/sample - loss: 0.0284 - accuracy: 0.9972\nEpoch 15/20\n3594/3594 [==============================] - 0s 41us/sample - loss: 0.0270 - accuracy: 0.9978\nEpoch 16/20\n3594/3594 [==============================] - 0s 42us/sample - loss: 0.0258 - accuracy: 0.9978\nEpoch 17/20\n3594/3594 [==============================] - 0s 42us/sample - loss: 0.0246 - accuracy: 0.9978\nEpoch 18/20\n3594/3594 [==============================] - 0s 41us/sample - loss: 0.0236 - accuracy: 0.9978\nEpoch 19/20\n3594/3594 [==============================] - 0s 42us/sample - loss: 0.0252 - accuracy: 0.9975\nEpoch 20/20\n3594/3594 [==============================] - 0s 41us/sample - loss: 0.0220 - accuracy: 0.9981\n"
    },
    {
     "output_type": "execute_result",
     "data": {
      "text/plain": "<tensorflow.python.keras.callbacks.History at 0x1dc388d3348>"
     },
     "metadata": {},
     "execution_count": 35
    }
   ],
   "source": [
    "modelFunc.fit(x_train, y_train, batch_size=128, epochs=20)"
   ]
  },
  {
   "cell_type": "code",
   "execution_count": 36,
   "metadata": {},
   "outputs": [
    {
     "output_type": "execute_result",
     "data": {
      "text/plain": "[0.15987454906047371, 0.96755356]"
     },
     "metadata": {},
     "execution_count": 36
    }
   ],
   "source": [
    "modelFunc.evaluate(x_test, y_test,verbose=0)"
   ]
  },
  {
   "cell_type": "code",
   "execution_count": 37,
   "metadata": {},
   "outputs": [
    {
     "output_type": "execute_result",
     "data": {
      "text/plain": "array([3, 0, 0, 0, 0, 0, 0, 0, 0, 0, 0, 0, 0, 0, 0, 0, 0, 0, 0])"
     },
     "metadata": {},
     "execution_count": 37
    }
   ],
   "source": [
    "x_test[0]"
   ]
  },
  {
   "cell_type": "code",
   "execution_count": 38,
   "metadata": {},
   "outputs": [],
   "source": [
    "predictions=modelFunc.predict(x_test)"
   ]
  },
  {
   "cell_type": "code",
   "execution_count": 39,
   "metadata": {
    "tags": []
   },
   "outputs": [
    {
     "output_type": "stream",
     "name": "stdout",
     "text": "05월 07일\n실제값: 20 예측값: 0\n일주일에 다섯번정도\n실제값: 20 예측값: 4\n5-7일/주\n실제값: 28 예측값: 20\n2주일에 1회\n실제값: 2 예측값: 0\n2주회 1회\n실제값: 2 예측값: 0\n1회/1월\n실제값: 1 예측값: 0\n일주일3회\n실제값: 12 예측값: 0\n5회/1week\n실제값: 20 예측값: 0\n6일/주\n실제값: 24 예측값: 4\n1회/2주일\n실제값: 2 예측값: 0\n3주일에 1회\n실제값: 1 예측값: 0\n05월 07일\n실제값: 20 예측값: 0\n05월 07일\n실제값: 20 예측값: 0\n05월 07일\n실제값: 20 예측값: 0\n3병/1주일\n실제값: 12 예측값: 4\n거의 2-3잔\n실제값: 0 예측값: 28\n2달에 1회\n실제값: 0 예측값: 4\n1/1W\n실제값: 4 예측값: 0\n6번/1주일\n실제값: 24 예측값: 4\n반주로 일주일에 7회\n실제값: 28 예측값: 8\n4회/1week\n실제값: 16 예측값: 0\n3-4병/1달\n실제값: 4 예측값: 3\n0.3회/주 \n실제값: 1 예측값: 12\n05월 07일\n실제값: 20 예측값: 0\n05월 07일\n실제값: 20 예측값: 0\n1/1회\n실제값: 0 예측값: 4\n한달 2~3회\n실제값: 3 예측값: 12\n1회/2주일\n실제값: 2 예측값: 0\n한달에2번\n실제값: 2 예측값: 0\n2~3/7\n실제값: 12 예측값: 0\n05월 07일\n실제값: 20 예측값: 0\n일주일에 4회정도\n실제값: 16 예측값: 4\n한달에 4~5회\n실제값: 5 예측값: 2\n1회.주\n실제값: 0 예측값: 4\n한달에1~2번\n실제값: 2 예측값: 0\n한달2~3회\n실제값: 3 예측값: 0\n월1~2회\n실제값: 2 예측값: 0\n3-4번/ 1달 \n실제값: 4 예측값: 16\n3회정도/일주\n실제값: 12 예측값: 0\n2~3회/2주\n실제값: 6 예측값: 3\n한달에 4회\n실제값: 4 예측값: 1\n한달에 서너번\n실제값: 0 예측값: 1\n2회~3회/1주일\n실제값: 12 예측값: 8\n12회/1주일\n실제값: 12 예측값: 4\n2회/7\n실제값: 8 예측값: 0\n일주일3회\n실제값: 12 예측값: 0\n주 0.5회\n실제값: 2 예측값: 8\n약 1-2회/WK\n실제값: 8 예측값: 0\n2~3번/2달\n실제값: 2 예측값: 0\n15일/월\n실제값: 15 예측값: 1\n"
    }
   ],
   "source": [
    "for i in range(len(x_test)):\n",
    "    \n",
    "    if np.argmax(y_test[i]) != np.argmax(predictions[i]):\n",
    "        print(x_test_real[i])\n",
    "        print('실제값: {} 예측값: {}'.format(np.argmax(y_test[i]), np.argmax(predictions[i])))\n"
   ]
  },
  {
   "cell_type": "code",
   "execution_count": null,
   "metadata": {},
   "outputs": [],
   "source": [
    "inx=2111"
   ]
  },
  {
   "cell_type": "code",
   "execution_count": null,
   "metadata": {
    "tags": []
   },
   "outputs": [],
   "source": [
    "\n",
    "print('예측값: {} 실제값: {}'.format(np.argmax(y_test[inx]), np.argmax(predictions[inx])))"
   ]
  },
  {
   "cell_type": "code",
   "execution_count": null,
   "metadata": {},
   "outputs": [],
   "source": []
  }
 ]
}